{
 "cells": [
  {
   "cell_type": "markdown",
   "metadata": {},
   "source": [
    "# Pytorch Backend\n",
    "\n",
    "OT and OTDD algorithms are implemented in Pytorch using [KeOps](https://github.com/getkeops/keops) and [GeomLoss](https://www.kernel-operations.io/geomloss/index.html). This provides GPU accelerated routines for computing transport.\n",
    "\n",
    "## Tensorized vs Online\n",
    "\n",
    "KeOps routines are implemented using both tensorized and online solvers. Tensorized routines solve the transport problem in memory, while online routines use symbolic matrices using KeOps LazyTensors. Tensorized routines tend to be faster up to about $10^{3}$ samples. Beyond that, online routines tend to be both faster and use significantly less memory.\n",
    "\n",
    "## Datasets\n",
    "\n",
    "Pytorch methods use `TensorDataset` to hold features\n",
    "\n",
    "## Distance Functions\n",
    "\n",
    "Pytorch distance functions subclass `PytorchDistanceFunction` and have a `backend` attribute that determines if the cost is tensorized or online.\n",
    "\n",
    "Tensorized routines for Euclidean and squared Euclidean distance metrics are implemented in `PytorchEuclideanDistance` and `PytorchEuclideanSquaredDistance`. \n",
    "\n",
    "Online routines are implemented in `EuclideanOnline` and `EuclideanSquaredOnline`.\n",
    "\n",
    "## KeOps Routines\n",
    "\n",
    "The `KeopsRoutine` class is a wrapper for interfacing with sinkhorn routines in the GeomLoss library. `SinkhornTensorized` and `SinkhornOnline` implement tensorized and online sinkhorn routines.\n",
    "\n",
    "## Cost Function\n",
    "\n",
    "Cost functions take in a `KeopsRoutine` subclass. `SamplesLossTensorized` works with `SinkhornTensorized` and `SamplesLossOnline` works with `SinkhornOnline`\n",
    "\n",
    "## Online Considerations\n",
    "\n",
    "Online implementations use KeOps LazyTensor representations. This requires us to change the implementation of "
   ]
  }
 ],
 "metadata": {
  "kernelspec": {
   "display_name": "Python 3",
   "language": "python",
   "name": "python3"
  },
  "language_info": {
   "codemirror_mode": {
    "name": "ipython",
    "version": 3
   },
   "file_extension": ".py",
   "mimetype": "text/x-python",
   "name": "python",
   "nbconvert_exporter": "python",
   "pygments_lexer": "ipython3",
   "version": "3.6.9"
  }
 },
 "nbformat": 4,
 "nbformat_minor": 2
}
