{
 "cells": [
  {
   "cell_type": "markdown",
   "metadata": {},
   "source": [
    "# CVXPY Backend\n",
    "\n",
    "This gives an overview of using [CVXPY](https://www.cvxpy.org/) to solve transport problems. The main reason to use CVXPY is to compute the [Robust Optimal Transport](https://arxiv.org/pdf/2010.05862.pdf) algorithm, which adds additional constraints to the cost problem to reduce the impact of outliers. This algorithm is not implemented in standard solvers, so the authors run a numerical optimization directly using CVXPY.\n",
    "\n",
    "## Distance Function\n",
    "\n",
    "Any subclass of `DistanceFunction` that works with numpy arrays should work with the CVXPY methods.\n",
    "\n",
    "## CVXPYSolver\n",
    "\n",
    "The `CVXPYSolver` is a class designed to make the CVXPY API work with the methods used in `CostFunction`. This is a bit tricky because CVXPY has a slightly different API for each of their solvers.\n",
    "\n",
    "To implement a CVXPY solver, subclass `CVXPYSolver` and update the `solve_problem` function. This function takes as input a `cp.Problem` object and a `max_iter` value.\n",
    "\n",
    "Code has been implemented for the SCS solver (`SCSSolver`) and the ECOS solver (`ECOSSolver`).\n",
    "\n",
    "## Cost Function\n",
    "\n",
    "The `RobustOTCost` implements the Robust OT algorithm based on the author's [code](https://github.com/yogeshbalaji/robustOT).\n",
    "\n",
    "I have found that the author's algorithm can have issues where the coupling matrix zeros out all values. To prevent this, we can add an additional constraint that the coupling matrix must sum to 1. This method is implemented in the `ModifiedRobustOTCost` class."
   ]
  }
 ],
 "metadata": {
  "kernelspec": {
   "display_name": "Python 3",
   "language": "python",
   "name": "python3"
  },
  "language_info": {
   "codemirror_mode": {
    "name": "ipython",
    "version": 3
   },
   "file_extension": ".py",
   "mimetype": "text/x-python",
   "name": "python",
   "nbconvert_exporter": "python",
   "pygments_lexer": "ipython3",
   "version": "3.6.9"
  }
 },
 "nbformat": 4,
 "nbformat_minor": 2
}
